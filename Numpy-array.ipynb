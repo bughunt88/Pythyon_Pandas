{
 "cells": [
  {
   "cell_type": "code",
   "execution_count": 1,
   "metadata": {
    "collapsed": true
   },
   "outputs": [],
   "source": [
    "import numpy as np"
   ]
  },
  {
   "cell_type": "code",
   "execution_count": 2,
   "metadata": {
    "collapsed": true
   },
   "outputs": [],
   "source": [
    "arr = np.arange(1,10)"
   ]
  },
  {
   "cell_type": "code",
   "execution_count": 3,
   "metadata": {
    "collapsed": false
   },
   "outputs": [
    {
     "data": {
      "text/plain": [
       "array([1, 2, 3, 4, 5, 6, 7, 8, 9])"
      ]
     },
     "execution_count": 3,
     "metadata": {},
     "output_type": "execute_result"
    }
   ],
   "source": [
    "arr"
   ]
  },
  {
   "cell_type": "code",
   "execution_count": 4,
   "metadata": {
    "collapsed": false
   },
   "outputs": [
    {
     "data": {
      "text/plain": [
       "array([ 1.        ,  1.41421356,  1.73205081,  2.        ,  2.23606798,\n",
       "        2.44948974,  2.64575131,  2.82842712,  3.        ])"
      ]
     },
     "execution_count": 4,
     "metadata": {},
     "output_type": "execute_result"
    }
   ],
   "source": [
    "np.sqrt(arr)"
   ]
  },
  {
   "cell_type": "code",
   "execution_count": 5,
   "metadata": {
    "collapsed": false
   },
   "outputs": [
    {
     "data": {
      "text/plain": [
       "array([ 0.        ,  0.30103   ,  0.47712125,  0.60205999,  0.69897   ,\n",
       "        0.77815125,  0.84509804,  0.90308999,  0.95424251])"
      ]
     },
     "execution_count": 5,
     "metadata": {},
     "output_type": "execute_result"
    }
   ],
   "source": [
    "np.log10(arr)"
   ]
  },
  {
   "cell_type": "code",
   "execution_count": 6,
   "metadata": {
    "collapsed": true
   },
   "outputs": [],
   "source": [
    "x = np.random.randn(8)\n",
    "y = np.random.randn(8)"
   ]
  },
  {
   "cell_type": "code",
   "execution_count": 7,
   "metadata": {
    "collapsed": false
   },
   "outputs": [
    {
     "data": {
      "text/plain": [
       "array([ 0.132041  , -0.29577764, -0.99570068, -0.00908824,  0.93258126,\n",
       "        0.22448131,  0.31013793, -0.51045452])"
      ]
     },
     "execution_count": 7,
     "metadata": {},
     "output_type": "execute_result"
    }
   ],
   "source": [
    "x"
   ]
  },
  {
   "cell_type": "code",
   "execution_count": 8,
   "metadata": {
    "collapsed": false
   },
   "outputs": [
    {
     "data": {
      "text/plain": [
       "array([-0.03861822, -0.37420313, -0.93009082,  0.3516138 , -0.10861206,\n",
       "        1.29588882,  0.79640676, -1.00450517])"
      ]
     },
     "execution_count": 8,
     "metadata": {},
     "output_type": "execute_result"
    }
   ],
   "source": [
    "y"
   ]
  },
  {
   "cell_type": "code",
   "execution_count": 9,
   "metadata": {
    "collapsed": false
   },
   "outputs": [
    {
     "data": {
      "text/plain": [
       "array([ 0.132041  , -0.29577764, -0.93009082,  0.3516138 ,  0.93258126,\n",
       "        1.29588882,  0.79640676, -0.51045452])"
      ]
     },
     "execution_count": 9,
     "metadata": {},
     "output_type": "execute_result"
    }
   ],
   "source": [
    "np.maximum(x,y)"
   ]
  },
  {
   "cell_type": "code",
   "execution_count": 10,
   "metadata": {
    "collapsed": true
   },
   "outputs": [],
   "source": [
    "arr = np.random.randn(5,4)"
   ]
  },
  {
   "cell_type": "code",
   "execution_count": 11,
   "metadata": {
    "collapsed": false
   },
   "outputs": [
    {
     "data": {
      "text/plain": [
       "array([[ 0.50023391, -0.18513402,  0.50596302,  0.25929403],\n",
       "       [-0.67139695, -0.31324559, -0.65141888, -1.55732006],\n",
       "       [-1.31863846,  0.68103647,  1.26118202,  0.5556716 ],\n",
       "       [-0.4801859 ,  0.16261416, -0.98858261, -0.360196  ],\n",
       "       [-0.72422032, -0.07615418, -0.36867736,  2.33628689]])"
      ]
     },
     "execution_count": 11,
     "metadata": {},
     "output_type": "execute_result"
    }
   ],
   "source": [
    "arr"
   ]
  },
  {
   "cell_type": "code",
   "execution_count": 12,
   "metadata": {
    "collapsed": false
   },
   "outputs": [
    {
     "data": {
      "text/plain": [
       "-1.432888217068724"
      ]
     },
     "execution_count": 12,
     "metadata": {},
     "output_type": "execute_result"
    }
   ],
   "source": [
    "arr.sum()"
   ]
  },
  {
   "cell_type": "code",
   "execution_count": 13,
   "metadata": {
    "collapsed": false
   },
   "outputs": [
    {
     "data": {
      "text/plain": [
       "-0.071644410853436202"
      ]
     },
     "execution_count": 13,
     "metadata": {},
     "output_type": "execute_result"
    }
   ],
   "source": [
    "arr.mean()"
   ]
  },
  {
   "cell_type": "code",
   "execution_count": 14,
   "metadata": {
    "collapsed": false
   },
   "outputs": [
    {
     "data": {
      "text/plain": [
       "array([-2.69420771,  0.26911684, -0.2415338 ,  1.23373645])"
      ]
     },
     "execution_count": 14,
     "metadata": {},
     "output_type": "execute_result"
    }
   ],
   "source": [
    "arr.sum(axis=0)"
   ]
  },
  {
   "cell_type": "code",
   "execution_count": 15,
   "metadata": {
    "collapsed": false
   },
   "outputs": [
    {
     "data": {
      "text/plain": [
       "array([ 1.08035695, -3.19338148,  1.17925163, -1.66635035,  1.16723504])"
      ]
     },
     "execution_count": 15,
     "metadata": {},
     "output_type": "execute_result"
    }
   ],
   "source": [
    "arr.sum(axis=1)"
   ]
  },
  {
   "cell_type": "code",
   "execution_count": 16,
   "metadata": {
    "collapsed": false
   },
   "outputs": [
    {
     "data": {
      "text/plain": [
       "array([[ True, False,  True,  True],\n",
       "       [False, False, False, False],\n",
       "       [False,  True,  True,  True],\n",
       "       [False,  True, False, False],\n",
       "       [False, False, False,  True]], dtype=bool)"
      ]
     },
     "execution_count": 16,
     "metadata": {},
     "output_type": "execute_result"
    }
   ],
   "source": [
    "arr >0"
   ]
  },
  {
   "cell_type": "code",
   "execution_count": 17,
   "metadata": {
    "collapsed": false
   },
   "outputs": [
    {
     "data": {
      "text/plain": [
       "8"
      ]
     },
     "execution_count": 17,
     "metadata": {},
     "output_type": "execute_result"
    }
   ],
   "source": [
    "(arr>0).sum()"
   ]
  },
  {
   "cell_type": "code",
   "execution_count": 18,
   "metadata": {
    "collapsed": true
   },
   "outputs": [],
   "source": [
    "arr = np.random.randn(8)"
   ]
  },
  {
   "cell_type": "code",
   "execution_count": 19,
   "metadata": {
    "collapsed": false
   },
   "outputs": [
    {
     "data": {
      "text/plain": [
       "array([ 0.41939431, -0.94434232,  0.24122212, -0.62889616, -0.85779037,\n",
       "       -0.40526346, -0.29406013,  1.44139924])"
      ]
     },
     "execution_count": 19,
     "metadata": {},
     "output_type": "execute_result"
    }
   ],
   "source": [
    "arr"
   ]
  },
  {
   "cell_type": "code",
   "execution_count": 20,
   "metadata": {
    "collapsed": false
   },
   "outputs": [
    {
     "data": {
      "text/plain": [
       "array([-0.94434232, -0.85779037, -0.62889616, -0.40526346, -0.29406013,\n",
       "        0.24122212,  0.41939431,  1.44139924])"
      ]
     },
     "execution_count": 20,
     "metadata": {},
     "output_type": "execute_result"
    }
   ],
   "source": [
    "np.sort(arr)"
   ]
  },
  {
   "cell_type": "code",
   "execution_count": 21,
   "metadata": {
    "collapsed": false
   },
   "outputs": [
    {
     "data": {
      "text/plain": [
       "array([ 1.44139924,  0.41939431,  0.24122212, -0.29406013, -0.40526346,\n",
       "       -0.62889616, -0.85779037, -0.94434232])"
      ]
     },
     "execution_count": 21,
     "metadata": {},
     "output_type": "execute_result"
    }
   ],
   "source": [
    "np.sort(arr)[::-1]"
   ]
  },
  {
   "cell_type": "code",
   "execution_count": 22,
   "metadata": {
    "collapsed": true
   },
   "outputs": [],
   "source": [
    "arr = np.random.randn(5,3)"
   ]
  },
  {
   "cell_type": "code",
   "execution_count": 23,
   "metadata": {
    "collapsed": false
   },
   "outputs": [
    {
     "data": {
      "text/plain": [
       "array([[ 1.23333782,  1.33765425, -1.30449174],\n",
       "       [ 0.03531229, -2.34697946, -0.66335531],\n",
       "       [ 0.40195706, -0.3729995 ,  0.34041421],\n",
       "       [-1.28641361, -0.71043293, -1.70662176],\n",
       "       [ 0.78183637, -0.90279646,  1.24119694]])"
      ]
     },
     "execution_count": 23,
     "metadata": {},
     "output_type": "execute_result"
    }
   ],
   "source": [
    "arr"
   ]
  },
  {
   "cell_type": "code",
   "execution_count": 24,
   "metadata": {
    "collapsed": false
   },
   "outputs": [
    {
     "ename": "SyntaxError",
     "evalue": "invalid syntax (<ipython-input-24-ad13d43d98c2>, line 1)",
     "output_type": "error",
     "traceback": [
      "\u001b[1;36m  File \u001b[1;32m\"<ipython-input-24-ad13d43d98c2>\"\u001b[1;36m, line \u001b[1;32m1\u001b[0m\n\u001b[1;33m    np.sort[arr,axis=0]\u001b[0m\n\u001b[1;37m                    ^\u001b[0m\n\u001b[1;31mSyntaxError\u001b[0m\u001b[1;31m:\u001b[0m invalid syntax\n"
     ]
    }
   ],
   "source": [
    "np.sort[arr,axis=0]"
   ]
  },
  {
   "cell_type": "code",
   "execution_count": 25,
   "metadata": {
    "collapsed": false
   },
   "outputs": [
    {
     "data": {
      "text/plain": [
       "array([[-1.28641361, -2.34697946, -1.70662176],\n",
       "       [ 0.03531229, -0.90279646, -1.30449174],\n",
       "       [ 0.40195706, -0.71043293, -0.66335531],\n",
       "       [ 0.78183637, -0.3729995 ,  0.34041421],\n",
       "       [ 1.23333782,  1.33765425,  1.24119694]])"
      ]
     },
     "execution_count": 25,
     "metadata": {},
     "output_type": "execute_result"
    }
   ],
   "source": [
    "np.sort(arr,axis=0)"
   ]
  },
  {
   "cell_type": "code",
   "execution_count": 26,
   "metadata": {
    "collapsed": false
   },
   "outputs": [
    {
     "data": {
      "text/plain": [
       "array([[-1.30449174,  1.23333782,  1.33765425],\n",
       "       [-2.34697946, -0.66335531,  0.03531229],\n",
       "       [-0.3729995 ,  0.34041421,  0.40195706],\n",
       "       [-1.70662176, -1.28641361, -0.71043293],\n",
       "       [-0.90279646,  0.78183637,  1.24119694]])"
      ]
     },
     "execution_count": 26,
     "metadata": {},
     "output_type": "execute_result"
    }
   ],
   "source": [
    "np.sort(arr,axis=1)"
   ]
  },
  {
   "cell_type": "code",
   "execution_count": 27,
   "metadata": {
    "collapsed": true
   },
   "outputs": [],
   "source": [
    "large_arr = np.random.randn(150)"
   ]
  },
  {
   "cell_type": "code",
   "execution_count": 28,
   "metadata": {
    "collapsed": false
   },
   "outputs": [
    {
     "data": {
      "text/plain": [
       "array([[ 1.23333782,  1.33765425, -1.30449174],\n",
       "       [ 0.03531229, -2.34697946, -0.66335531],\n",
       "       [ 0.40195706, -0.3729995 ,  0.34041421],\n",
       "       [-1.28641361, -0.71043293, -1.70662176],\n",
       "       [ 0.78183637, -0.90279646,  1.24119694]])"
      ]
     },
     "execution_count": 28,
     "metadata": {},
     "output_type": "execute_result"
    }
   ],
   "source": [
    "arr"
   ]
  },
  {
   "cell_type": "code",
   "execution_count": 29,
   "metadata": {
    "collapsed": false
   },
   "outputs": [
    {
     "data": {
      "text/plain": [
       "array([ 0.97128176,  0.85245619, -0.6793697 ,  0.52577356, -0.29925786,\n",
       "       -1.44959673,  0.2550769 , -1.34068903,  2.36179788,  0.24938879,\n",
       "       -0.54034379, -0.59494483,  0.56937303, -0.44721982, -0.45029003,\n",
       "       -0.19886635,  0.15982109, -0.12476489, -0.55726211,  0.21518523,\n",
       "       -0.65421398, -0.52471682, -0.01375516, -2.39077361, -1.4692868 ,\n",
       "        0.70533281, -0.01796958, -0.55204443, -0.50378366,  2.32730007,\n",
       "        0.7655319 ,  0.178629  ,  0.91048516, -1.32648244,  0.77343268,\n",
       "       -0.32688792,  0.77238609,  0.20172294, -0.74566714,  0.27936657,\n",
       "       -0.01420675,  0.48035293,  0.80196968,  0.88641737,  0.24296693,\n",
       "       -0.62270411,  0.05728735, -0.37013753,  0.58557908, -1.18760998,\n",
       "       -1.37823008, -1.26211314,  0.18851626,  0.30222289, -1.82086856,\n",
       "       -1.52297454, -1.46775465,  1.23966161,  0.03651264, -1.1217569 ,\n",
       "       -0.59229405,  1.00139911,  0.0679566 ,  0.14047364, -0.81435343,\n",
       "       -1.40976464, -0.23989198,  0.24940239, -1.39487824,  1.515416  ,\n",
       "       -0.65406625,  0.10463818, -1.55241863, -0.49696986,  1.13132172,\n",
       "       -1.54547105,  1.22021864,  0.7233352 ,  0.55414144,  0.81058287,\n",
       "       -0.3768934 ,  0.2857949 ,  0.84464825, -1.13141044,  0.83328381,\n",
       "       -0.52152204,  0.9046343 , -0.33509842,  0.53937929,  0.09778001,\n",
       "        0.90061746,  0.69184023, -0.79232128, -0.65817359,  1.16640199,\n",
       "       -1.43969963,  0.73625903, -0.24617959, -1.16444187,  0.91318911,\n",
       "        0.3319997 , -1.08638292, -0.70881237,  0.97368848, -1.78210355,\n",
       "        1.24557828,  2.15276048,  0.15445966,  0.45697912,  1.27718279,\n",
       "       -0.20044991, -2.65613805, -1.20517969,  0.51805772,  0.53092872,\n",
       "       -0.56240093,  1.34278558, -0.73201279, -0.14347694, -0.26686147,\n",
       "       -0.76263119, -0.05813493,  1.4263895 ,  0.30290157, -0.10754611,\n",
       "        2.02641579,  0.01204445,  0.76113916, -0.19848111, -0.2771882 ,\n",
       "        1.10050297,  0.40705035, -0.24517974,  1.11969659, -0.12265805,\n",
       "        1.22031015,  0.24365405,  2.30078881,  0.8944785 , -1.43733036,\n",
       "        0.50955323,  0.79678839, -0.341162  , -1.23620367, -1.71717587,\n",
       "       -0.24888497, -1.64903997,  0.70943097, -2.19976063, -0.88981893])"
      ]
     },
     "execution_count": 29,
     "metadata": {},
     "output_type": "execute_result"
    }
   ],
   "source": [
    "large_arr"
   ]
  },
  {
   "cell_type": "code",
   "execution_count": 30,
   "metadata": {
    "collapsed": false
   },
   "outputs": [
    {
     "data": {
      "text/plain": [
       "array([-2.65613805, -2.39077361, -2.19976063, -1.82086856, -1.78210355,\n",
       "       -1.71717587, -1.64903997, -1.55241863, -1.54547105, -1.52297454,\n",
       "       -1.4692868 , -1.46775465, -1.44959673, -1.43969963, -1.43733036,\n",
       "       -1.40976464, -1.39487824, -1.37823008, -1.34068903, -1.32648244,\n",
       "       -1.26211314, -1.23620367, -1.20517969, -1.18760998, -1.16444187,\n",
       "       -1.13141044, -1.1217569 , -1.08638292, -0.88981893, -0.81435343,\n",
       "       -0.79232128, -0.76263119, -0.74566714, -0.73201279, -0.70881237,\n",
       "       -0.6793697 , -0.65817359, -0.65421398, -0.65406625, -0.62270411,\n",
       "       -0.59494483, -0.59229405, -0.56240093, -0.55726211, -0.55204443,\n",
       "       -0.54034379, -0.52471682, -0.52152204, -0.50378366, -0.49696986,\n",
       "       -0.45029003, -0.44721982, -0.3768934 , -0.37013753, -0.341162  ,\n",
       "       -0.33509842, -0.32688792, -0.29925786, -0.2771882 , -0.26686147,\n",
       "       -0.24888497, -0.24617959, -0.24517974, -0.23989198, -0.20044991,\n",
       "       -0.19886635, -0.19848111, -0.14347694, -0.12476489, -0.12265805,\n",
       "       -0.10754611, -0.05813493, -0.01796958, -0.01420675, -0.01375516,\n",
       "        0.01204445,  0.03651264,  0.05728735,  0.0679566 ,  0.09778001,\n",
       "        0.10463818,  0.14047364,  0.15445966,  0.15982109,  0.178629  ,\n",
       "        0.18851626,  0.20172294,  0.21518523,  0.24296693,  0.24365405,\n",
       "        0.24938879,  0.24940239,  0.2550769 ,  0.27936657,  0.2857949 ,\n",
       "        0.30222289,  0.30290157,  0.3319997 ,  0.40705035,  0.45697912,\n",
       "        0.48035293,  0.50955323,  0.51805772,  0.52577356,  0.53092872,\n",
       "        0.53937929,  0.55414144,  0.56937303,  0.58557908,  0.69184023,\n",
       "        0.70533281,  0.70943097,  0.7233352 ,  0.73625903,  0.76113916,\n",
       "        0.7655319 ,  0.77238609,  0.77343268,  0.79678839,  0.80196968,\n",
       "        0.81058287,  0.83328381,  0.84464825,  0.85245619,  0.88641737,\n",
       "        0.8944785 ,  0.90061746,  0.9046343 ,  0.91048516,  0.91318911,\n",
       "        0.97128176,  0.97368848,  1.00139911,  1.10050297,  1.11969659,\n",
       "        1.13132172,  1.16640199,  1.22021864,  1.22031015,  1.23966161,\n",
       "        1.24557828,  1.27718279,  1.34278558,  1.4263895 ,  1.515416  ,\n",
       "        2.02641579,  2.15276048,  2.30078881,  2.32730007,  2.36179788])"
      ]
     },
     "execution_count": 30,
     "metadata": {},
     "output_type": "execute_result"
    }
   ],
   "source": [
    "np.sort(large_arr)"
   ]
  },
  {
   "cell_type": "code",
   "execution_count": 31,
   "metadata": {
    "collapsed": false
   },
   "outputs": [
    {
     "data": {
      "text/plain": [
       "array([ 2.36179788,  2.32730007,  2.30078881,  2.15276048,  2.02641579,\n",
       "        1.515416  ,  1.4263895 ,  1.34278558,  1.27718279,  1.24557828,\n",
       "        1.23966161,  1.22031015,  1.22021864,  1.16640199,  1.13132172,\n",
       "        1.11969659,  1.10050297,  1.00139911,  0.97368848,  0.97128176,\n",
       "        0.91318911,  0.91048516,  0.9046343 ,  0.90061746,  0.8944785 ,\n",
       "        0.88641737,  0.85245619,  0.84464825,  0.83328381,  0.81058287,\n",
       "        0.80196968,  0.79678839,  0.77343268,  0.77238609,  0.7655319 ,\n",
       "        0.76113916,  0.73625903,  0.7233352 ,  0.70943097,  0.70533281,\n",
       "        0.69184023,  0.58557908,  0.56937303,  0.55414144,  0.53937929,\n",
       "        0.53092872,  0.52577356,  0.51805772,  0.50955323,  0.48035293,\n",
       "        0.45697912,  0.40705035,  0.3319997 ,  0.30290157,  0.30222289,\n",
       "        0.2857949 ,  0.27936657,  0.2550769 ,  0.24940239,  0.24938879,\n",
       "        0.24365405,  0.24296693,  0.21518523,  0.20172294,  0.18851626,\n",
       "        0.178629  ,  0.15982109,  0.15445966,  0.14047364,  0.10463818,\n",
       "        0.09778001,  0.0679566 ,  0.05728735,  0.03651264,  0.01204445,\n",
       "       -0.01375516, -0.01420675, -0.01796958, -0.05813493, -0.10754611,\n",
       "       -0.12265805, -0.12476489, -0.14347694, -0.19848111, -0.19886635,\n",
       "       -0.20044991, -0.23989198, -0.24517974, -0.24617959, -0.24888497,\n",
       "       -0.26686147, -0.2771882 , -0.29925786, -0.32688792, -0.33509842,\n",
       "       -0.341162  , -0.37013753, -0.3768934 , -0.44721982, -0.45029003,\n",
       "       -0.49696986, -0.50378366, -0.52152204, -0.52471682, -0.54034379,\n",
       "       -0.55204443, -0.55726211, -0.56240093, -0.59229405, -0.59494483,\n",
       "       -0.62270411, -0.65406625, -0.65421398, -0.65817359, -0.6793697 ,\n",
       "       -0.70881237, -0.73201279, -0.74566714, -0.76263119, -0.79232128,\n",
       "       -0.81435343, -0.88981893, -1.08638292, -1.1217569 , -1.13141044,\n",
       "       -1.16444187, -1.18760998, -1.20517969, -1.23620367, -1.26211314,\n",
       "       -1.32648244, -1.34068903, -1.37823008, -1.39487824, -1.40976464,\n",
       "       -1.43733036, -1.43969963, -1.44959673, -1.46775465, -1.4692868 ,\n",
       "       -1.52297454, -1.54547105, -1.55241863, -1.64903997, -1.71717587,\n",
       "       -1.78210355, -1.82086856, -2.19976063, -2.39077361, -2.65613805])"
      ]
     },
     "execution_count": 31,
     "metadata": {},
     "output_type": "execute_result"
    }
   ],
   "source": [
    "np.sort(large_arr)[::-1]"
   ]
  },
  {
   "cell_type": "code",
   "execution_count": 32,
   "metadata": {
    "collapsed": false
   },
   "outputs": [
    {
     "data": {
      "text/plain": [
       "1.342785583794359"
      ]
     },
     "execution_count": 32,
     "metadata": {},
     "output_type": "execute_result"
    }
   ],
   "source": [
    "np.sort(large_arr)[::-1][int(0.05 * len(large_arr))]"
   ]
  },
  {
   "cell_type": "code",
   "execution_count": null,
   "metadata": {
    "collapsed": true
   },
   "outputs": [],
   "source": []
  }
 ],
 "metadata": {
  "kernelspec": {
   "display_name": "Python 3",
   "language": "python",
   "name": "python3"
  },
  "language_info": {
   "codemirror_mode": {
    "name": "ipython",
    "version": 3
   },
   "file_extension": ".py",
   "mimetype": "text/x-python",
   "name": "python",
   "nbconvert_exporter": "python",
   "pygments_lexer": "ipython3",
   "version": "3.6.0"
  }
 },
 "nbformat": 4,
 "nbformat_minor": 2
}
